{
  "cells": [
    {
      "cell_type": "markdown",
      "metadata": {
        "id": "view-in-github",
        "colab_type": "text"
      },
      "source": [
        "<a href=\"https://colab.research.google.com/github/mijntasenik/HTML5-Reset/blob/master/Marketing_Python_Nuggets.ipynb\" target=\"_parent\"><img src=\"https://colab.research.google.com/assets/colab-badge.svg\" alt=\"Open In Colab\"/></a>"
      ]
    },
    {
      "cell_type": "markdown",
      "metadata": {
        "id": "eP2guWhExbl7"
      },
      "source": [
        "# 📓 Python Marketing Nugget Notebook\n",
        "Gebruik dit notebook om dagelijkse nuggets en oefenvragen bij te houden.\n",
        "\n",
        "## Richtlijnen:\n",
        "- Elke dag een nieuwe sectie toevoegen\n",
        "- Code uitvoeren in code-cellen\n",
        "- Reflectie of marketingtoepassing opschrijven in markdown\n"
      ],
      "id": "eP2guWhExbl7"
    },
    {
      "cell_type": "markdown",
      "metadata": {
        "id": "c0okXjCWxbl-"
      },
      "source": [
        "## 🔹 Dag 1 – KPI Metrics\n",
        "**Opdracht:** Bereken CTR, CPC en CPA voor de opgegeven campagne.\n"
      ],
      "id": "c0okXjCWxbl-"
    },
    {
      "cell_type": "code",
      "execution_count": null,
      "metadata": {
        "colab": {
          "base_uri": "https://localhost:8080/"
        },
        "id": "YSYpRKYCxbl_",
        "outputId": "f8eed329-e087-4cbe-bac4-e173ac6e8e3b"
      },
      "outputs": [
        {
          "output_type": "stream",
          "name": "stdout",
          "text": [
            "CTR: 3.0% | CPC: €1.5 | CPA: €18.0\n"
          ]
        }
      ],
      "source": [
        "def kpi_metrics(impr: int, clicks: int, cost: float, conv: int):\n",
        "    ctr = (clicks / impr) * 100 if impr else 0.0\n",
        "    cpc = (cost / clicks) if clicks else 0.0\n",
        "    cpa = (cost / conv) if conv else float(\"inf\")\n",
        "    return round(ctr, 2), round(cpc, 2), (round(cpa, 2) if cpa != float(\"inf\") else cpa)\n",
        "\n",
        "ctr, cpc, cpa = kpi_metrics(impr=12000, clicks=360, cost=540.0, conv=30)\n",
        "print(f\"CTR: {ctr}% | CPC: €{cpc} | CPA: {'∞' if cpa==float('inf') else '€'+str(cpa)}\")"
      ],
      "id": "YSYpRKYCxbl_"
    },
    {
      "cell_type": "code",
      "source": [
        "channels = [\n",
        "    {\"name\": \"SEA - Brand\",     \"impressions\": 18000, \"clicks\": 720, \"cost\": 432.50, \"conversions\": 54},\n",
        "    {\"name\": \"SEO - Blog\",      \"impressions\": 25000, \"clicks\": 450, \"cost\":   0.00, \"conversions\": 20},\n",
        "    {\"name\": \"LinkedIn Ads\",    \"impressions\":  9000, \"clicks\": 180, \"cost\": 600.00, \"conversions\": 12},\n",
        "]channels = [\n",
        "    {\"name\": \"SEA - Brand\",     \"impressions\": 18000, \"clicks\": 720, \"cost\": 432.50, \"conversions\": 54},\n",
        "    {\"name\": \"SEO - Blog\",      \"impressions\": 25000, \"clicks\": 450, \"cost\":   0.00, \"conversions\": 20},\n",
        "    {\"name\": \"LinkedIn Ads\",    \"impressions\":"
      ],
      "metadata": {
        "colab": {
          "base_uri": "https://localhost:8080/",
          "height": 127
        },
        "id": "kbRoNApAyMac",
        "outputId": "7fa31835-0ddc-4443-cff6-fca6dc8d23c9"
      },
      "id": "kbRoNApAyMac",
      "execution_count": null,
      "outputs": [
        {
          "output_type": "error",
          "ename": "SyntaxError",
          "evalue": "invalid syntax (ipython-input-3989112468.py, line 5)",
          "traceback": [
            "\u001b[0;36m  File \u001b[0;32m\"/tmp/ipython-input-3989112468.py\"\u001b[0;36m, line \u001b[0;32m5\u001b[0m\n\u001b[0;31m    ]channels = [\u001b[0m\n\u001b[0m     ^\u001b[0m\n\u001b[0;31mSyntaxError\u001b[0m\u001b[0;31m:\u001b[0m invalid syntax\n"
          ]
        }
      ]
    },
    {
      "cell_type": "markdown",
      "metadata": {
        "id": "ODWROOy-xbmB"
      },
      "source": [
        "## ✍️ Reflectie\n",
        "- Wat vertellen deze metrics jou over de effectiviteit van de campagne?\n",
        "- Hoe zou je deze berekeningen kunnen gebruiken om kanalen te vergelijken?\n"
      ],
      "id": "ODWROOy-xbmB"
    },
    {
      "cell_type": "code",
      "metadata": {
        "colab": {
          "base_uri": "https://localhost:8080/",
          "height": 230
        },
        "id": "d941894d",
        "outputId": "d40a632f-e05e-4caa-c260-74cd3013d9d9"
      },
      "source": [
        "import pandas as pd\n",
        "\n",
        "kpi_data = []\n",
        "for channel in channels:\n",
        "    ctr, cpc, cpa = kpi_metrics(channel[\"impressions\"], channel[\"clicks\"], channel[\"cost\"], channel[\"conversions\"])\n",
        "    kpi_data.append({\n",
        "        \"Channel\": channel[\"name\"],\n",
        "        \"CTR (%)\": ctr,\n",
        "        \"CPC (€)\": cpc,\n",
        "        \"CPA (€)\": cpa\n",
        "    })\n",
        "\n",
        "kpi_df = pd.DataFrame(kpi_data)\n",
        "\n",
        "def highlight_max_ctr(s):\n",
        "    is_max = s == s.max()\n",
        "    return ['background-color: yellow' if v else '' for v in is_max]\n",
        "\n",
        "display(kpi_df.style.apply(highlight_max_ctr, subset=['CTR (%)']))"
      ],
      "id": "d941894d",
      "execution_count": null,
      "outputs": [
        {
          "output_type": "display_data",
          "data": {
            "text/plain": [
              "<pandas.io.formats.style.Styler at 0x7ce2afe6c7d0>"
            ],
            "text/html": [
              "<style type=\"text/css\">\n",
              "#T_c8b99_row0_col1 {\n",
              "  background-color: yellow;\n",
              "}\n",
              "</style>\n",
              "<table id=\"T_c8b99\" class=\"dataframe\">\n",
              "  <thead>\n",
              "    <tr>\n",
              "      <th class=\"blank level0\" >&nbsp;</th>\n",
              "      <th id=\"T_c8b99_level0_col0\" class=\"col_heading level0 col0\" >Channel</th>\n",
              "      <th id=\"T_c8b99_level0_col1\" class=\"col_heading level0 col1\" >CTR (%)</th>\n",
              "      <th id=\"T_c8b99_level0_col2\" class=\"col_heading level0 col2\" >CPC (€)</th>\n",
              "      <th id=\"T_c8b99_level0_col3\" class=\"col_heading level0 col3\" >CPA (€)</th>\n",
              "    </tr>\n",
              "  </thead>\n",
              "  <tbody>\n",
              "    <tr>\n",
              "      <th id=\"T_c8b99_level0_row0\" class=\"row_heading level0 row0\" >0</th>\n",
              "      <td id=\"T_c8b99_row0_col0\" class=\"data row0 col0\" >SEA - Brand</td>\n",
              "      <td id=\"T_c8b99_row0_col1\" class=\"data row0 col1\" >4.000000</td>\n",
              "      <td id=\"T_c8b99_row0_col2\" class=\"data row0 col2\" >0.600000</td>\n",
              "      <td id=\"T_c8b99_row0_col3\" class=\"data row0 col3\" >8.010000</td>\n",
              "    </tr>\n",
              "    <tr>\n",
              "      <th id=\"T_c8b99_level0_row1\" class=\"row_heading level0 row1\" >1</th>\n",
              "      <td id=\"T_c8b99_row1_col0\" class=\"data row1 col0\" >SEO - Blog</td>\n",
              "      <td id=\"T_c8b99_row1_col1\" class=\"data row1 col1\" >1.800000</td>\n",
              "      <td id=\"T_c8b99_row1_col2\" class=\"data row1 col2\" >0.000000</td>\n",
              "      <td id=\"T_c8b99_row1_col3\" class=\"data row1 col3\" >0.000000</td>\n",
              "    </tr>\n",
              "    <tr>\n",
              "      <th id=\"T_c8b99_level0_row2\" class=\"row_heading level0 row2\" >2</th>\n",
              "      <td id=\"T_c8b99_row2_col0\" class=\"data row2 col0\" >LinkedIn Ads</td>\n",
              "      <td id=\"T_c8b99_row2_col1\" class=\"data row2 col1\" >2.000000</td>\n",
              "      <td id=\"T_c8b99_row2_col2\" class=\"data row2 col2\" >3.330000</td>\n",
              "      <td id=\"T_c8b99_row2_col3\" class=\"data row2 col3\" >50.000000</td>\n",
              "    </tr>\n",
              "  </tbody>\n",
              "</table>\n"
            ]
          },
          "metadata": {}
        }
      ]
    },
    {
      "cell_type": "code",
      "source": [
        "# Voorbeeld: ruwe productnamen met inconsistenties\n",
        "raw_products = [\"Roofcoat WB \", \"roofcoat wb\", \"ROOFCOAT  wb\", \"FacadeClean Pro\", \"facadeclean pro \"]\n",
        "\n",
        "def clean_names(names):\n",
        "    return [name.strip().lower().replace(\"  \", \" \") for name in names]\n",
        "\n",
        "cleaned = clean_names(raw_products)\n",
        "print(cleaned)\n",
        "# Output: ['roofcoat wb', 'roofcoat wb', 'roofcoat wb', 'facadeclean pro', 'facadeclean pro']"
      ],
      "metadata": {
        "colab": {
          "base_uri": "https://localhost:8080/"
        },
        "id": "nBdiu89T0639",
        "outputId": "106f79e8-dc33-4951-9179-d04098e03317"
      },
      "id": "nBdiu89T0639",
      "execution_count": null,
      "outputs": [
        {
          "output_type": "stream",
          "name": "stdout",
          "text": [
            "['roofcoat wb', 'roofcoat wb', 'roofcoat wb', 'facadeclean pro', 'facadeclean pro']\n"
          ]
        }
      ]
    },
    {
      "cell_type": "code",
      "metadata": {
        "colab": {
          "base_uri": "https://localhost:8080/"
        },
        "id": "b3a75f46",
        "outputId": "6bcdbedd-e9c6-4159-8029-4bde57b781ff"
      },
      "source": [
        "from collections import Counter\n",
        "\n",
        "# 1. Show all unique product names (without duplicates)\n",
        "unique_products = set(cleaned)\n",
        "print(\"Unique product names:\")\n",
        "print(unique_products)\n",
        "\n",
        "# 2. Indicate how often each product occurs (frequency table)\n",
        "product_counts = Counter(cleaned)\n",
        "\n",
        "# 3. Sort the results neatly by frequency (high -> low)\n",
        "sorted_product_counts = sorted(product_counts.items(), key=lambda item: item[1], reverse=True)\n",
        "\n",
        "print(\"\\nProduct frequency table (sorted by frequency):\")\n",
        "for product, count in sorted_product_counts:\n",
        "    print(f\"{product}: {count}\")"
      ],
      "id": "b3a75f46",
      "execution_count": null,
      "outputs": [
        {
          "output_type": "stream",
          "name": "stdout",
          "text": [
            "Unique product names:\n",
            "{'roofcoat wb', 'facadeclean pro'}\n",
            "\n",
            "Product frequency table (sorted by frequency):\n",
            "roofcoat wb: 3\n",
            "facadeclean pro: 2\n"
          ]
        }
      ]
    }
  ],
  "metadata": {
    "colab": {
      "provenance": [],
      "include_colab_link": true
    },
    "kernelspec": {
      "display_name": "Python 3",
      "language": "python",
      "name": "python3"
    },
    "language_info": {
      "name": "python",
      "version": "3.9"
    }
  },
  "nbformat": 4,
  "nbformat_minor": 5
}